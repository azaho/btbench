{
 "cells": [
  {
   "cell_type": "code",
   "execution_count": 345,
   "id": "1ca9a692",
   "metadata": {},
   "outputs": [],
   "source": [
    "from glob import glob as glob\n",
    "import os\n",
    "import pandas as pd\n",
    "import json\n",
    "import seaborn as sns\n",
    "import matplotlib.pyplot as plt"
   ]
  },
  {
   "cell_type": "code",
   "execution_count": 346,
   "id": "9b9d0c99",
   "metadata": {},
   "outputs": [],
   "source": [
    "results_root=\"/storage/czw/btbench/outputs/btbench_popt_lite/\""
   ]
  },
  {
   "cell_type": "code",
   "execution_count": 347,
   "id": "7db1a9f3",
   "metadata": {},
   "outputs": [],
   "source": [
    "split = \"DS_DM\"\n",
    "split_paths = glob(os.path.join(results_root, split, \"*\", \"results.json\"))"
   ]
  },
  {
   "cell_type": "code",
   "execution_count": 348,
   "id": "c9c86f63",
   "metadata": {},
   "outputs": [],
   "source": [
    "all_records = []\n",
    "for path in split_paths:\n",
    "    result_name = path.split(\"/\")[-2]\n",
    "    sub_name = \"_\".join(result_name.split(\"_\")[1:3])\n",
    "    sub_id = int(sub_name[len(\"sub_\"):])\n",
    "    trial_name = result_name.split(\"_\")[3]\n",
    "    trial_id = int(trial_name[len(\"trial\"):])\n",
    "\n",
    "    task_name = \"_\".join(result_name.split(\"_\")[4:])\n",
    "    if \"frozen\" in task_name:\n",
    "        task_name = task_name.split(\"_frozen_\")[0]\n",
    "   \n",
    "    with open(path, \"r\") as f:\n",
    "        results = json.load(f)\n",
    "        \n",
    "        for k in range(len(results)):\n",
    "            test_roc_auc = results[k][\"test_roc_auc\"]\n",
    "        \n",
    "            all_records.append({\n",
    "                \"subject_name\": sub_name,\n",
    "                \"trial_name\": trial_name,\n",
    "                \"subject_id\": sub_id,\n",
    "                \"trial_id\": trial_id,\n",
    "                \"fold\": k,\n",
    "                \"task_name\": task_name,\n",
    "                \"test_roc_auc\": test_roc_auc\n",
    "\n",
    "            })\n",
    "results_df = pd.DataFrame.from_records(all_records)"
   ]
  },
  {
   "cell_type": "code",
   "execution_count": 349,
   "id": "d01665cd",
   "metadata": {},
   "outputs": [
    {
     "data": {
      "text/plain": [
       "1140"
      ]
     },
     "execution_count": 349,
     "metadata": {},
     "output_type": "execute_result"
    }
   ],
   "source": [
    "5*19*12"
   ]
  },
  {
   "cell_type": "code",
   "execution_count": 350,
   "id": "e6bdbd8c",
   "metadata": {},
   "outputs": [],
   "source": [
    "eval_tasks = [\"frame_brightness\", \"global_flow\", \"local_flow\", \"global_flow_angle\", \"local_flow_angle\", \"face_num\", \"volume\", \"pitch\", \"delta_volume\", \"delta_pitch\", \"speech\", \"onset\", \"gpt2_surprisal\", \"word_length\", \"word_gap\", \"word_index\", \"word_head_pos\", \"word_part_speech\", \"speaker\"]\n",
    "lite_trials = {\"sub_1\": [\"trial001\", \"trial002\"], \"sub_2\": [\"trial000\", \"trial004\"], \"sub_3\": [\"trial001\", \"trial000\"], \"sub_4\": [\"trial001\", \"trial000\"], \"sub_5\": [\"trial000\"], \"sub_6\": [\"trial000\"], \"sub_7\": [\"trial001\", \"trial000\"], \"sub_8\": [\"trial000\"], \"sub_9\": [\"trial000\"], \"sub_10\": [\"trial001\", \"trial000\"]}"
   ]
  },
  {
   "cell_type": "code",
   "execution_count": 351,
   "id": "634d3dc8",
   "metadata": {},
   "outputs": [
    {
     "name": "stdout",
     "output_type": "stream",
     "text": [
      "sub_1 trial001 frame_brightness\n",
      "sub_1 trial001 global_flow\n",
      "sub_1 trial001 global_flow_angle\n",
      "sub_1 trial001 volume\n",
      "sub_1 trial001 pitch\n",
      "sub_1 trial001 delta_volume\n",
      "sub_1 trial001 delta_pitch\n",
      "sub_1 trial001 speech\n",
      "sub_1 trial001 gpt2_surprisal\n",
      "sub_1 trial001 word_length\n",
      "sub_1 trial001 word_head_pos\n",
      "sub_1 trial001 word_part_speech\n",
      "sub_1 trial002 frame_brightness\n",
      "sub_1 trial002 global_flow\n",
      "sub_1 trial002 global_flow_angle\n",
      "sub_1 trial002 volume\n",
      "sub_1 trial002 pitch\n",
      "sub_1 trial002 delta_volume\n",
      "sub_1 trial002 delta_pitch\n",
      "sub_1 trial002 speech\n",
      "sub_1 trial002 gpt2_surprisal\n",
      "sub_1 trial002 word_length\n",
      "sub_1 trial002 word_head_pos\n",
      "sub_1 trial002 word_part_speech\n",
      "sub_2 trial000 frame_brightness\n",
      "sub_2 trial000 global_flow\n",
      "sub_2 trial000 local_flow\n",
      "sub_2 trial000 global_flow_angle\n",
      "sub_2 trial000 local_flow_angle\n",
      "sub_2 trial000 face_num\n",
      "sub_2 trial000 volume\n",
      "sub_2 trial000 pitch\n",
      "sub_2 trial000 delta_volume\n",
      "sub_2 trial000 delta_pitch\n",
      "sub_2 trial000 speech\n",
      "sub_2 trial000 onset\n",
      "sub_2 trial000 gpt2_surprisal\n",
      "sub_2 trial000 word_length\n",
      "sub_2 trial000 word_gap\n",
      "sub_2 trial000 word_index\n",
      "sub_2 trial000 word_head_pos\n",
      "sub_2 trial000 word_part_speech\n",
      "sub_2 trial000 speaker\n",
      "sub_2 trial004 frame_brightness\n",
      "sub_2 trial004 global_flow\n",
      "sub_2 trial004 local_flow\n",
      "sub_2 trial004 global_flow_angle\n",
      "sub_2 trial004 local_flow_angle\n",
      "sub_2 trial004 face_num\n",
      "sub_2 trial004 volume\n",
      "sub_2 trial004 pitch\n",
      "sub_2 trial004 delta_volume\n",
      "sub_2 trial004 delta_pitch\n",
      "sub_2 trial004 speech\n",
      "sub_2 trial004 onset\n",
      "sub_2 trial004 gpt2_surprisal\n",
      "sub_2 trial004 word_length\n",
      "sub_2 trial004 word_gap\n",
      "sub_2 trial004 word_index\n",
      "sub_2 trial004 word_head_pos\n",
      "sub_2 trial004 word_part_speech\n",
      "sub_2 trial004 speaker\n",
      "sub_3 trial001 frame_brightness\n",
      "sub_3 trial001 global_flow\n",
      "sub_3 trial001 global_flow_angle\n",
      "sub_3 trial001 face_num\n",
      "sub_3 trial001 volume\n",
      "sub_3 trial001 pitch\n",
      "sub_3 trial001 delta_volume\n",
      "sub_3 trial001 delta_pitch\n",
      "sub_3 trial001 speech\n",
      "sub_3 trial001 gpt2_surprisal\n",
      "sub_3 trial001 word_length\n",
      "sub_3 trial001 word_head_pos\n",
      "sub_3 trial001 word_part_speech\n",
      "sub_3 trial000 frame_brightness\n",
      "sub_3 trial000 global_flow\n",
      "sub_3 trial000 global_flow_angle\n",
      "sub_3 trial000 face_num\n",
      "sub_3 trial000 volume\n",
      "sub_3 trial000 pitch\n",
      "sub_3 trial000 delta_volume\n",
      "sub_3 trial000 delta_pitch\n",
      "sub_3 trial000 speech\n",
      "sub_3 trial000 gpt2_surprisal\n",
      "sub_3 trial000 word_length\n",
      "sub_3 trial000 word_head_pos\n",
      "sub_3 trial000 word_part_speech\n",
      "sub_4 trial001 frame_brightness\n",
      "sub_4 trial001 global_flow\n",
      "sub_4 trial001 global_flow_angle\n",
      "sub_4 trial001 face_num\n",
      "sub_4 trial001 volume\n",
      "sub_4 trial001 pitch\n",
      "sub_4 trial001 delta_volume\n",
      "sub_4 trial001 delta_pitch\n",
      "sub_4 trial001 speech\n",
      "sub_4 trial001 gpt2_surprisal\n",
      "sub_4 trial001 word_length\n",
      "sub_4 trial001 word_head_pos\n",
      "sub_4 trial001 word_part_speech\n",
      "sub_4 trial000 frame_brightness\n",
      "sub_4 trial000 global_flow\n",
      "sub_4 trial000 global_flow_angle\n",
      "sub_4 trial000 face_num\n",
      "sub_4 trial000 volume\n",
      "sub_4 trial000 pitch\n",
      "sub_4 trial000 delta_volume\n",
      "sub_4 trial000 delta_pitch\n",
      "sub_4 trial000 speech\n",
      "sub_4 trial000 gpt2_surprisal\n",
      "sub_4 trial000 word_length\n",
      "sub_4 trial000 word_head_pos\n",
      "sub_4 trial000 word_part_speech\n",
      "sub_7 trial001 frame_brightness\n",
      "sub_7 trial001 global_flow\n",
      "sub_7 trial001 global_flow_angle\n",
      "sub_7 trial001 face_num\n",
      "sub_7 trial001 volume\n",
      "sub_7 trial001 pitch\n",
      "sub_7 trial001 delta_volume\n",
      "sub_7 trial001 delta_pitch\n",
      "sub_7 trial001 speech\n",
      "sub_7 trial001 gpt2_surprisal\n",
      "sub_7 trial001 word_length\n",
      "sub_7 trial001 word_head_pos\n",
      "sub_7 trial001 word_part_speech\n",
      "sub_7 trial000 frame_brightness\n",
      "sub_7 trial000 global_flow\n",
      "sub_7 trial000 global_flow_angle\n",
      "sub_7 trial000 face_num\n",
      "sub_7 trial000 volume\n",
      "sub_7 trial000 pitch\n",
      "sub_7 trial000 delta_volume\n",
      "sub_7 trial000 delta_pitch\n",
      "sub_7 trial000 speech\n",
      "sub_7 trial000 gpt2_surprisal\n",
      "sub_7 trial000 word_length\n",
      "sub_7 trial000 word_head_pos\n",
      "sub_7 trial000 word_part_speech\n",
      "sub_10 trial001 frame_brightness\n",
      "sub_10 trial001 global_flow\n",
      "sub_10 trial001 global_flow_angle\n",
      "sub_10 trial001 volume\n",
      "sub_10 trial001 pitch\n",
      "sub_10 trial001 delta_volume\n",
      "sub_10 trial001 delta_pitch\n",
      "sub_10 trial001 speech\n",
      "sub_10 trial001 gpt2_surprisal\n",
      "sub_10 trial001 word_length\n",
      "sub_10 trial001 word_head_pos\n",
      "sub_10 trial001 word_part_speech\n",
      "sub_10 trial000 frame_brightness\n",
      "sub_10 trial000 global_flow\n",
      "sub_10 trial000 global_flow_angle\n",
      "sub_10 trial000 volume\n",
      "sub_10 trial000 pitch\n",
      "sub_10 trial000 delta_volume\n",
      "sub_10 trial000 delta_pitch\n",
      "sub_10 trial000 speech\n",
      "sub_10 trial000 gpt2_surprisal\n",
      "sub_10 trial000 word_length\n",
      "sub_10 trial000 word_head_pos\n",
      "sub_10 trial000 word_part_speech\n"
     ]
    }
   ],
   "source": [
    "count = 0\n",
    "for sub in lite_trials:\n",
    "    if len(lite_trials[sub])==1:\n",
    "        continue\n",
    "    for trial in lite_trials[sub]:\n",
    "        for task in eval_tasks:\n",
    "            count += 5\n",
    "            sub_id = int(sub[len(\"sub_\"):])\n",
    "            trial_id = int(trial[len(\"trial\"):])\n",
    "            if len(results_df[(results_df.subject_id==sub_id) & (results_df.trial_id==trial_id) & (results_df.task_name==task)]) == 0:\n",
    "                print(sub, trial, task)\n",
    "\n",
    "# print(count)"
   ]
  },
  {
   "cell_type": "code",
   "execution_count": 326,
   "id": "fc354bd6",
   "metadata": {},
   "outputs": [],
   "source": [
    "mean_df = results_df.groupby(\"task_name\").mean(\"test_roc_auc\").sort_values(by=\"test_roc_auc\")"
   ]
  },
  {
   "cell_type": "code",
   "execution_count": 327,
   "id": "b0e9b21b",
   "metadata": {},
   "outputs": [
    {
     "data": {
      "text/html": [
       "<div>\n",
       "<style scoped>\n",
       "    .dataframe tbody tr th:only-of-type {\n",
       "        vertical-align: middle;\n",
       "    }\n",
       "\n",
       "    .dataframe tbody tr th {\n",
       "        vertical-align: top;\n",
       "    }\n",
       "\n",
       "    .dataframe thead th {\n",
       "        text-align: right;\n",
       "    }\n",
       "</style>\n",
       "<table border=\"1\" class=\"dataframe\">\n",
       "  <thead>\n",
       "    <tr style=\"text-align: right;\">\n",
       "      <th></th>\n",
       "      <th>subject_id</th>\n",
       "      <th>trial_id</th>\n",
       "      <th>fold</th>\n",
       "      <th>test_roc_auc</th>\n",
       "    </tr>\n",
       "    <tr>\n",
       "      <th>task_name</th>\n",
       "      <th></th>\n",
       "      <th></th>\n",
       "      <th></th>\n",
       "      <th></th>\n",
       "    </tr>\n",
       "  </thead>\n",
       "  <tbody>\n",
       "    <tr>\n",
       "      <th>word_gap</th>\n",
       "      <td>4.5</td>\n",
       "      <td>0.916667</td>\n",
       "      <td>0.0</td>\n",
       "      <td>0.493929</td>\n",
       "    </tr>\n",
       "    <tr>\n",
       "      <th>delta_pitch</th>\n",
       "      <td>4.5</td>\n",
       "      <td>0.916667</td>\n",
       "      <td>0.0</td>\n",
       "      <td>0.498200</td>\n",
       "    </tr>\n",
       "    <tr>\n",
       "      <th>face_num</th>\n",
       "      <td>4.5</td>\n",
       "      <td>0.916667</td>\n",
       "      <td>0.0</td>\n",
       "      <td>0.500334</td>\n",
       "    </tr>\n",
       "    <tr>\n",
       "      <th>speaker</th>\n",
       "      <td>4.5</td>\n",
       "      <td>0.916667</td>\n",
       "      <td>0.0</td>\n",
       "      <td>0.500485</td>\n",
       "    </tr>\n",
       "    <tr>\n",
       "      <th>pitch</th>\n",
       "      <td>4.5</td>\n",
       "      <td>0.916667</td>\n",
       "      <td>0.0</td>\n",
       "      <td>0.500982</td>\n",
       "    </tr>\n",
       "    <tr>\n",
       "      <th>frame_brightness</th>\n",
       "      <td>4.5</td>\n",
       "      <td>0.916667</td>\n",
       "      <td>0.0</td>\n",
       "      <td>0.502473</td>\n",
       "    </tr>\n",
       "    <tr>\n",
       "      <th>global_flow_angle</th>\n",
       "      <td>4.5</td>\n",
       "      <td>0.916667</td>\n",
       "      <td>0.0</td>\n",
       "      <td>0.502483</td>\n",
       "    </tr>\n",
       "    <tr>\n",
       "      <th>word_length</th>\n",
       "      <td>4.5</td>\n",
       "      <td>0.916667</td>\n",
       "      <td>0.0</td>\n",
       "      <td>0.503605</td>\n",
       "    </tr>\n",
       "    <tr>\n",
       "      <th>local_flow_angle</th>\n",
       "      <td>4.5</td>\n",
       "      <td>0.916667</td>\n",
       "      <td>0.0</td>\n",
       "      <td>0.504958</td>\n",
       "    </tr>\n",
       "    <tr>\n",
       "      <th>word_part_speech</th>\n",
       "      <td>4.5</td>\n",
       "      <td>0.916667</td>\n",
       "      <td>0.0</td>\n",
       "      <td>0.505137</td>\n",
       "    </tr>\n",
       "    <tr>\n",
       "      <th>word_head_pos</th>\n",
       "      <td>4.5</td>\n",
       "      <td>0.916667</td>\n",
       "      <td>0.0</td>\n",
       "      <td>0.507961</td>\n",
       "    </tr>\n",
       "    <tr>\n",
       "      <th>gpt2_surprisal</th>\n",
       "      <td>4.5</td>\n",
       "      <td>0.916667</td>\n",
       "      <td>0.0</td>\n",
       "      <td>0.519669</td>\n",
       "    </tr>\n",
       "    <tr>\n",
       "      <th>volume</th>\n",
       "      <td>4.5</td>\n",
       "      <td>0.916667</td>\n",
       "      <td>0.0</td>\n",
       "      <td>0.520633</td>\n",
       "    </tr>\n",
       "    <tr>\n",
       "      <th>global_flow</th>\n",
       "      <td>4.5</td>\n",
       "      <td>0.916667</td>\n",
       "      <td>0.0</td>\n",
       "      <td>0.522399</td>\n",
       "    </tr>\n",
       "    <tr>\n",
       "      <th>local_flow</th>\n",
       "      <td>4.5</td>\n",
       "      <td>0.916667</td>\n",
       "      <td>0.0</td>\n",
       "      <td>0.524211</td>\n",
       "    </tr>\n",
       "    <tr>\n",
       "      <th>word_index</th>\n",
       "      <td>4.5</td>\n",
       "      <td>0.916667</td>\n",
       "      <td>0.0</td>\n",
       "      <td>0.541282</td>\n",
       "    </tr>\n",
       "    <tr>\n",
       "      <th>delta_volume</th>\n",
       "      <td>4.5</td>\n",
       "      <td>0.916667</td>\n",
       "      <td>0.0</td>\n",
       "      <td>0.571150</td>\n",
       "    </tr>\n",
       "    <tr>\n",
       "      <th>onset</th>\n",
       "      <td>4.5</td>\n",
       "      <td>0.916667</td>\n",
       "      <td>0.0</td>\n",
       "      <td>0.803721</td>\n",
       "    </tr>\n",
       "    <tr>\n",
       "      <th>speech</th>\n",
       "      <td>4.5</td>\n",
       "      <td>0.916667</td>\n",
       "      <td>0.0</td>\n",
       "      <td>0.826625</td>\n",
       "    </tr>\n",
       "  </tbody>\n",
       "</table>\n",
       "</div>"
      ],
      "text/plain": [
       "                   subject_id  trial_id  fold  test_roc_auc\n",
       "task_name                                                  \n",
       "word_gap                  4.5  0.916667   0.0      0.493929\n",
       "delta_pitch               4.5  0.916667   0.0      0.498200\n",
       "face_num                  4.5  0.916667   0.0      0.500334\n",
       "speaker                   4.5  0.916667   0.0      0.500485\n",
       "pitch                     4.5  0.916667   0.0      0.500982\n",
       "frame_brightness          4.5  0.916667   0.0      0.502473\n",
       "global_flow_angle         4.5  0.916667   0.0      0.502483\n",
       "word_length               4.5  0.916667   0.0      0.503605\n",
       "local_flow_angle          4.5  0.916667   0.0      0.504958\n",
       "word_part_speech          4.5  0.916667   0.0      0.505137\n",
       "word_head_pos             4.5  0.916667   0.0      0.507961\n",
       "gpt2_surprisal            4.5  0.916667   0.0      0.519669\n",
       "volume                    4.5  0.916667   0.0      0.520633\n",
       "global_flow               4.5  0.916667   0.0      0.522399\n",
       "local_flow                4.5  0.916667   0.0      0.524211\n",
       "word_index                4.5  0.916667   0.0      0.541282\n",
       "delta_volume              4.5  0.916667   0.0      0.571150\n",
       "onset                     4.5  0.916667   0.0      0.803721\n",
       "speech                    4.5  0.916667   0.0      0.826625"
      ]
     },
     "execution_count": 327,
     "metadata": {},
     "output_type": "execute_result"
    }
   ],
   "source": [
    "mean_df"
   ]
  },
  {
   "cell_type": "code",
   "execution_count": 328,
   "id": "730fa66b",
   "metadata": {},
   "outputs": [
    {
     "data": {
      "image/png": "[encoded data removed]",
      "text/plain": [
       "<Figure size 640x480 with 1 Axes>"
      ]
     },
     "metadata": {},
     "output_type": "display_data"
    }
   ],
   "source": [
    "ax = sns.barplot(y=mean_df.index, x=\"test_roc_auc\", data=mean_df, color='grey')\n"
   ]
  },
  {
   "cell_type": "code",
   "execution_count": 329,
   "id": "97def328",
   "metadata": {},
   "outputs": [],
   "source": [
    "results_df.to_csv(f\"popt_{split}_results.csv\", index=False)"
   ]
  },
  {
   "cell_type": "code",
   "execution_count": 330,
   "id": "56035a5a",
   "metadata": {},
   "outputs": [
    {
     "data": {
      "text/plain": [
       "'popt_SS_DM_results.csv'"
      ]
     },
     "execution_count": 330,
     "metadata": {},
     "output_type": "execute_result"
    }
   ],
   "source": [
    "f\"popt_{split}_results.csv\""
   ]
  },
  {
   "cell_type": "code",
   "execution_count": 331,
   "id": "3fc93cc0",
   "metadata": {},
   "outputs": [],
   "source": [
    "all_subject_trials = list([f\"{x}_{y}\" for (x,y) in zip(list(results_df.subject_id),list(results_df.trial_id))])"
   ]
  },
  {
   "cell_type": "code",
   "execution_count": 332,
   "id": "b6c96e3a",
   "metadata": {},
   "outputs": [
    {
     "data": {
      "text/plain": [
       "(array(['10_0', '10_1', '1_1', '1_2', '2_0', '2_4', '3_0', '3_1', '4_0',\n",
       "        '4_1', '7_0', '7_1'], dtype='<U4'),\n",
       " array([19, 19, 19, 19, 19, 19, 19, 19, 19, 19, 19, 19]))"
      ]
     },
     "execution_count": 332,
     "metadata": {},
     "output_type": "execute_result"
    }
   ],
   "source": [
    "import numpy as np\n",
    "np.unique(all_subject_trials, return_counts=True)"
   ]
  },
  {
   "cell_type": "code",
   "execution_count": 292,
   "id": "70b5ad08",
   "metadata": {},
   "outputs": [
    {
     "data": {
      "text/plain": [
       "95"
      ]
     },
     "execution_count": 292,
     "metadata": {},
     "output_type": "execute_result"
    }
   ],
   "source": [
    "5*19"
   ]
  },
  {
   "cell_type": "code",
   "execution_count": null,
   "id": "d249ac0e",
   "metadata": {},
   "outputs": [],
   "source": []
  },
  {
   "cell_type": "code",
   "execution_count": null,
   "id": "41de7787",
   "metadata": {},
   "outputs": [],
   "source": []
  },
  {
   "cell_type": "code",
   "execution_count": null,
   "id": "af5cd025",
   "metadata": {},
   "outputs": [],
   "source": []
  }
 ],
 "metadata": {
  "kernelspec": {
   "display_name": "Python 3 (ipykernel)",
   "language": "python",
   "name": "python3"
  },
  "language_info": {
   "codemirror_mode": {
    "name": "ipython",
    "version": 3
   },
   "file_extension": ".py",
   "mimetype": "text/x-python",
   "name": "python",
   "nbconvert_exporter": "python",
   "pygments_lexer": "ipython3",
   "version": "3.7.12"
  }
 },
 "nbformat": 4,
 "nbformat_minor": 5
}

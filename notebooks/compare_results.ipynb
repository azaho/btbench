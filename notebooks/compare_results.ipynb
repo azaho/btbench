{
 "cells": [
  {
   "cell_type": "code",
   "execution_count": 14,
   "id": "93f3b02c",
   "metadata": {},
   "outputs": [],
   "source": [
    "from glob import glob\n",
    "import pandas as pd\n",
    "import os\n",
    "from tqdm import tqdm as tqdm \n",
    "from IPython.display import Image\n",
    "from pathlib import Path\n",
    "import json\n",
    "import numpy as np"
   ]
  },
  {
   "cell_type": "code",
   "execution_count": 19,
   "id": "bdfac9b5",
   "metadata": {},
   "outputs": [],
   "source": [
    "results_root = \"/storage/czw/btbench/single_electrode_btbench_full/eval_results_full_SS_SM/linear_voltage_single_electrode\"\n",
    "lite_results_root = \"/storage/czw/linear_voltage_single_electrode_SS_SM_prototype/linear_voltage_single_electrode\"\n"
   ]
  },
  {
   "cell_type": "code",
   "execution_count": 16,
   "id": "eded54e3",
   "metadata": {},
   "outputs": [],
   "source": [
    "def get_test_results(results, eval_name):\n",
    "    eval_results = results[\"evaluation_results\"]\n",
    "    assert len(eval_results.keys()) == 1\n",
    "    records = []\n",
    "    for subject_trial in eval_results:\n",
    "        subject = subject_trial.split(\"_\")[0][len(\"btbank\"):]\n",
    "        trial = subject_trial.split(\"_\")[1]\n",
    "        subject_trial_results = eval_results[subject_trial]['electrode']\n",
    "        for electrode in subject_trial_results:\n",
    "            electrode_results = subject_trial_results[electrode]\n",
    "            time_bin_results = electrode_results[\"time_bins\"]\n",
    "            for time_bin in time_bin_results:\n",
    "                time_bin_start = time_bin['time_bin_start']\n",
    "                fold_results = time_bin['folds']\n",
    "                avg_test = np.mean([f['test_roc_auc'] for f in fold_results])\n",
    "                records.append({\n",
    "                    \"subject\": subject,\n",
    "                    \"trial\": trial,\n",
    "                    \"ID\": f'{electrode}-sub_{subject}',\n",
    "                    \"electrode\": electrode,\n",
    "                    \"avg_test\": avg_test,\n",
    "                    \"time_bin\": time_bin_start,\n",
    "                    \"task\": eval_name\n",
    "                })\n",
    "        return records"
   ]
  },
  {
   "cell_type": "code",
   "execution_count": 24,
   "id": "2eac3dcf",
   "metadata": {},
   "outputs": [],
   "source": [
    "def get_results_df(results_root):\n",
    "    all_records = []\n",
    "    all_results_paths = glob(os.path.join(results_root, \"*\"))\n",
    "    for path in tqdm(all_results_paths):\n",
    "        name = Path(path).stem\n",
    "        sub_id = name.split(\"_\")[1][len(\"btbank\"):]\n",
    "        trial_id = name.split(\"_\")[2]\n",
    "        eval_name = \"_\".join(name.split(\"_\")[3:])\n",
    "        with open(path, \"r\") as f:\n",
    "            results = json.load(f)\n",
    "            test_results = get_test_results(results, eval_name)\n",
    "        all_records += test_results\n",
    "    results_df = pd.DataFrame.from_records(all_records)\n",
    "    return results_df"
   ]
  },
  {
   "cell_type": "code",
   "execution_count": 25,
   "id": "333fac9a",
   "metadata": {},
   "outputs": [
    {
     "name": "stderr",
     "output_type": "stream",
     "text": [
      "100%|██████████████████████████████████████████████████████████████████████████████████| 494/494 [00:34<00:00, 14.14it/s]\n"
     ]
    }
   ],
   "source": [
    "results_df = get_results_df(results_root)"
   ]
  },
  {
   "cell_type": "code",
   "execution_count": 35,
   "id": "4a8337c9",
   "metadata": {},
   "outputs": [],
   "source": [
    "avg_results_df = results_df.groupby(['ID', 'task']).max('avg_test')"
   ]
  },
  {
   "cell_type": "code",
   "execution_count": 26,
   "id": "896e3649",
   "metadata": {},
   "outputs": [
    {
     "name": "stderr",
     "output_type": "stream",
     "text": [
      "100%|██████████████████████████████████████████████████████████████████████████████████| 228/228 [00:19<00:00, 11.58it/s]\n"
     ]
    }
   ],
   "source": [
    "lite_results_df = get_results_df(lite_results_root)"
   ]
  },
  {
   "cell_type": "code",
   "execution_count": 34,
   "id": "7d709d08",
   "metadata": {},
   "outputs": [],
   "source": [
    "avg_lite_results_df = lite_results_df.groupby(['ID', 'task']).max('avg_test')"
   ]
  },
  {
   "cell_type": "code",
   "execution_count": 39,
   "id": "33d4e906",
   "metadata": {},
   "outputs": [
    {
     "data": {
      "text/plain": [
       "0.0021242491143563997"
      ]
     },
     "execution_count": 39,
     "metadata": {},
     "output_type": "execute_result"
    }
   ],
   "source": [
    "(avg_lite_results_df['avg_test'] - avg_results_df['avg_test']).dropna().mean()"
   ]
  },
  {
   "cell_type": "code",
   "execution_count": 33,
   "id": "39bb00f7",
   "metadata": {},
   "outputs": [
    {
     "data": {
      "text/html": [
       "<div>\n",
       "<style scoped>\n",
       "    .dataframe tbody tr th:only-of-type {\n",
       "        vertical-align: middle;\n",
       "    }\n",
       "\n",
       "    .dataframe tbody tr th {\n",
       "        vertical-align: top;\n",
       "    }\n",
       "\n",
       "    .dataframe thead th {\n",
       "        text-align: right;\n",
       "    }\n",
       "</style>\n",
       "<table border=\"1\" class=\"dataframe\">\n",
       "  <thead>\n",
       "    <tr style=\"text-align: right;\">\n",
       "      <th></th>\n",
       "      <th></th>\n",
       "      <th>avg_test</th>\n",
       "      <th>time_bin</th>\n",
       "    </tr>\n",
       "    <tr>\n",
       "      <th>ID</th>\n",
       "      <th>task</th>\n",
       "      <th></th>\n",
       "      <th></th>\n",
       "    </tr>\n",
       "  </thead>\n",
       "  <tbody>\n",
       "    <tr>\n",
       "      <th rowspan=\"5\" valign=\"top\">F10Fa1-sub_10</th>\n",
       "      <th>delta_pitch</th>\n",
       "      <td>0.522710</td>\n",
       "      <td>1.125</td>\n",
       "    </tr>\n",
       "    <tr>\n",
       "      <th>delta_volume</th>\n",
       "      <td>0.526442</td>\n",
       "      <td>1.125</td>\n",
       "    </tr>\n",
       "    <tr>\n",
       "      <th>frame_brightness</th>\n",
       "      <td>0.522776</td>\n",
       "      <td>1.125</td>\n",
       "    </tr>\n",
       "    <tr>\n",
       "      <th>global_flow</th>\n",
       "      <td>0.518618</td>\n",
       "      <td>1.125</td>\n",
       "    </tr>\n",
       "    <tr>\n",
       "      <th>global_flow_angle</th>\n",
       "      <td>0.523075</td>\n",
       "      <td>1.125</td>\n",
       "    </tr>\n",
       "    <tr>\n",
       "      <th>...</th>\n",
       "      <th>...</th>\n",
       "      <td>...</td>\n",
       "      <td>...</td>\n",
       "    </tr>\n",
       "    <tr>\n",
       "      <th rowspan=\"5\" valign=\"top\">T3bOT9-sub_1</th>\n",
       "      <th>volume</th>\n",
       "      <td>0.521583</td>\n",
       "      <td>1.125</td>\n",
       "    </tr>\n",
       "    <tr>\n",
       "      <th>word_gap</th>\n",
       "      <td>0.523281</td>\n",
       "      <td>1.125</td>\n",
       "    </tr>\n",
       "    <tr>\n",
       "      <th>word_head_pos</th>\n",
       "      <td>0.520881</td>\n",
       "      <td>1.125</td>\n",
       "    </tr>\n",
       "    <tr>\n",
       "      <th>word_index</th>\n",
       "      <td>0.519237</td>\n",
       "      <td>1.125</td>\n",
       "    </tr>\n",
       "    <tr>\n",
       "      <th>word_length</th>\n",
       "      <td>0.517072</td>\n",
       "      <td>1.125</td>\n",
       "    </tr>\n",
       "  </tbody>\n",
       "</table>\n",
       "<p>28683 rows × 2 columns</p>\n",
       "</div>"
      ],
      "text/plain": [
       "                                 avg_test  time_bin\n",
       "ID            task                                 \n",
       "F10Fa1-sub_10 delta_pitch        0.522710     1.125\n",
       "              delta_volume       0.526442     1.125\n",
       "              frame_brightness   0.522776     1.125\n",
       "              global_flow        0.518618     1.125\n",
       "              global_flow_angle  0.523075     1.125\n",
       "...                                   ...       ...\n",
       "T3bOT9-sub_1  volume             0.521583     1.125\n",
       "              word_gap           0.523281     1.125\n",
       "              word_head_pos      0.520881     1.125\n",
       "              word_index         0.519237     1.125\n",
       "              word_length        0.517072     1.125\n",
       "\n",
       "[28683 rows x 2 columns]"
      ]
     },
     "execution_count": 33,
     "metadata": {},
     "output_type": "execute_result"
    }
   ],
   "source": []
  },
  {
   "cell_type": "code",
   "execution_count": null,
   "id": "d7e5fb62",
   "metadata": {},
   "outputs": [],
   "source": []
  }
 ],
 "metadata": {
  "kernelspec": {
   "display_name": "Python 3 (ipykernel)",
   "language": "python",
   "name": "python3"
  },
  "language_info": {
   "codemirror_mode": {
    "name": "ipython",
    "version": 3
   },
   "file_extension": ".py",
   "mimetype": "text/x-python",
   "name": "python",
   "nbconvert_exporter": "python",
   "pygments_lexer": "ipython3",
   "version": "3.7.12"
  }
 },
 "nbformat": 4,
 "nbformat_minor": 5
}

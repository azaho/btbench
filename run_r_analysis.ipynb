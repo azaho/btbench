{
 "cells": [
  {
   "cell_type": "code",
   "execution_count": 6,
   "metadata": {},
   "outputs": [
    {
     "name": "stdout",
     "output_type": "stream",
     "text": [
      "r/40269473_152.err: Warning\n",
      "r/40269473_153.err: Warning\n",
      "r/40269473_16.err:\n",
      "slurmstepd: error: *** JOB 40269489 ON node084 CANCELLED AT 2025-02-10T09:52:16 DUE TO PREEMPTION ***\n",
      "--------------------------------------------------------------------------------\n",
      "r/40269473_17.err:\n",
      "slurmstepd: error: *** JOB 40269490 ON node084 CANCELLED AT 2025-02-10T09:52:16 DUE TO PREEMPTION ***\n",
      "--------------------------------------------------------------------------------\n",
      "r/40269473_171.err: Warning\n",
      "r/40269473_18.err:\n",
      "slurmstepd: error: *** JOB 40269491 ON node084 CANCELLED AT 2025-02-10T09:52:16 DUE TO PREEMPTION ***\n",
      "--------------------------------------------------------------------------------\n",
      "r/40269473_20.err:\n",
      "slurmstepd: error: *** JOB 40269493 ON node084 CANCELLED AT 2025-02-10T09:52:16 DUE TO PREEMPTION ***\n",
      "--------------------------------------------------------------------------------\n",
      "r/40269473_247.err: Warning\n",
      "r/40269473_290.err: Warning\n",
      "r/40269473_304.err: Warning\n",
      "r/40269473_361.err: Warning\n",
      "r/40269473_366.err: Warning\n",
      "r/40269473_38.err: Warning\n",
      "r/40269473_380.err: Warning\n",
      "r/40269473_385.err: Warning\n",
      "r/40269473_57.err: Warning\n",
      "r/40269473_75.err:\n",
      "slurmstepd: error: *** JOB 40269572 ON node084 CANCELLED AT 2025-02-10T09:52:16 DUE TO PREEMPTION ***\n",
      "--------------------------------------------------------------------------------\n",
      "r/40269473_97.err:\n",
      "slurmstepd: error: *** JOB 40269596 ON node084 CANCELLED AT 2025-02-10T09:52:16 DUE TO PREEMPTION ***\n",
      "--------------------------------------------------------------------------------\n",
      "\n",
      "Proportion of files with errors: 6/438 (1.37%)\n",
      "\n",
      "Files with errors:\n",
      "[16, 17, 18, 20, 75, 97]\n"
     ]
    }
   ],
   "source": [
    "import os\n",
    "import glob\n",
    "\n",
    "# Get all .err files in r/ directory\n",
    "err_files = glob.glob('r/*.err')\n",
    "files_with_err = []\n",
    "\n",
    "# Count total files and files with errors\n",
    "total_files = len(err_files)\n",
    "error_count = 0\n",
    "\n",
    "for err_file in err_files:\n",
    "    # Read file content\n",
    "    with open(err_file, 'r') as f:\n",
    "        content = f.read().strip()\n",
    "        \n",
    "    # If file is not empty, check content and handle appropriately\n",
    "    if content:\n",
    "        if (\"Warning\" in content or \"warnings.warn\" in content) and (\"STOP\" not in content):\n",
    "            # Just print warnings to console\n",
    "            print(f\"{err_file}: Warning\")\n",
    "        else:\n",
    "            # Add non-warning errors to count and array\n",
    "            error_count += 1\n",
    "            files_with_err.append(err_file)\n",
    "            if \"cgroup out-of-memory handler\" in content:\n",
    "                print(f\"{err_file}: MEM err\")\n",
    "            elif \"AttributeError: 'BrainTreebankSubjectTrialBenchmarkDataset' object has no attribute 'n_samples'\" in content:\n",
    "                print(f\"{err_file}: word_gap n_samples\")\n",
    "            elif \"STOP\" in content:\n",
    "                print(f\"{err_file}: ITERATIONS REACHED LIMIT\")\n",
    "            else:\n",
    "                print(f\"{err_file}:\")\n",
    "                print(content)\n",
    "                print(\"-\" * 80)\n",
    "\n",
    "# Print error proportion and list of files with errors\n",
    "print(f\"\\nProportion of files with errors: {error_count}/{total_files} ({error_count/total_files:.2%})\")\n",
    "print(\"\\nFiles with errors:\")\n",
    "# Extract just the numeric IDs from filenames\n",
    "ids = [int(f.split('_')[1].split('.')[0]) for f in files_with_err]\n",
    "print(ids)"
   ]
  },
  {
   "cell_type": "code",
   "execution_count": 41,
   "metadata": {},
   "outputs": [
    {
     "name": "stdout",
     "output_type": "stream",
     "text": [
      "\n",
      "Number of files in eval_results/: 309\n"
     ]
    },
    {
     "data": {
      "text/plain": [
       "529"
      ]
     },
     "execution_count": 41,
     "metadata": {},
     "output_type": "execute_result"
    }
   ],
   "source": [
    "# Count files in eval_results directory\n",
    "eval_files = glob.glob('eval_results/*.json')\n",
    "print(f\"\\nNumber of files in eval_results/: {len(eval_files)}\")\n",
    "len(eval_files) + 80 + error_count"
   ]
  },
  {
   "cell_type": "code",
   "execution_count": null,
   "metadata": {},
   "outputs": [],
   "source": []
  }
 ],
 "metadata": {
  "kernelspec": {
   "display_name": ".venv",
   "language": "python",
   "name": "python3"
  },
  "language_info": {
   "codemirror_mode": {
    "name": "ipython",
    "version": 3
   },
   "file_extension": ".py",
   "mimetype": "text/x-python",
   "name": "python",
   "nbconvert_exporter": "python",
   "pygments_lexer": "ipython3",
   "version": "3.9.12"
  }
 },
 "nbformat": 4,
 "nbformat_minor": 2
}

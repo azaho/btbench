{
 "cells": [
  {
   "cell_type": "code",
   "execution_count": 1,
   "metadata": {},
   "outputs": [],
   "source": [
    "import torch\n",
    "from torch.utils.data import Dataset, DataLoader\n",
    "import numpy as np\n",
    "import pandas as pd\n",
    "import json\n",
    "import glob\n",
    "import random\n",
    "from btbench_config import *\n",
    "from braintreebank_subject import Subject\n",
    "from btbench_datasets import BrainTreebankSubjectTrialBenchmarkDataset\n",
    "\n",
    "# all possible pairs of (subject_id, trial_id)\n",
    "all_subject_trials = [(1, 0), (1, 1), (1, 2), (2, 0), (2, 1), (2, 2), (2, 3), (2, 4), (2, 5), (2, 6), (3, 0), (3, 1), (3, 2), (4, 0), (4, 1), (4, 2), (5, 0), (6, 0), (6, 1), (6, 4), (7, 0), (7, 1), (8, 0), (9, 0), (10, 0), (10, 1)]\n",
    "\n",
    "# all possible evaluations for now\n",
    "all_evaluations = [\"pitch\", \"rms\", \"onset\", \"speech\"]\n",
    "\n",
    "# the evaluation pairs of (subject_id, trial_id) based on the Population Transformer paper\n",
    "all_eval_subject_trials = [(1, 2), (2, 6), (3, 0), (4, 2), (5, 0), (6, 1), (10, 0)] # made to match PopT paper"
   ]
  },
  {
   "cell_type": "code",
   "execution_count": 2,
   "metadata": {},
   "outputs": [],
   "source": [
    "subject_id, trial_id = 3, 0\n",
    "subject = Subject(subject_id, cache=True) # use cache=True to load this trial's neural data into RAM, if you have enough memory!\n",
    "dataset = BrainTreebankSubjectTrialBenchmarkDataset(subject, trial_id, dtype=torch.float32, eval_name=\"rms\") # eval_name can be \"pitch\", \"rms\", \"onset\", or \"speech\""
   ]
  },
  {
   "cell_type": "code",
   "execution_count": null,
   "metadata": {},
   "outputs": [
    {
     "name": "stdout",
     "output_type": "stream",
     "text": [
      "Items in the dataset: 5379\n",
      "Shape of the first item: features.shape = torch.Size([124, 5120]) label = tensor(0)\n"
     ]
    }
   ],
   "source": [
    "print(\"Items in the dataset:\", len(dataset))\n",
    "print(\"Shape of the first item: features.shape =\", dataset[0][0].shape, \"label =\", dataset[0][1])"
   ]
  },
  {
   "cell_type": "code",
   "execution_count": 4,
   "metadata": {},
   "outputs": [
    {
     "name": "stdout",
     "output_type": "stream",
     "text": [
      "Loading dataset...\n",
      "Dataset loaded\n"
     ]
    }
   ],
   "source": [
    "word_onset_idx = int(START_NEURAL_DATA_BEFORE_WORD_ONSET * SAMPLING_RATE) # 1024\n",
    "word_onset_idx_end = int((START_NEURAL_DATA_BEFORE_WORD_ONSET + END_NEURAL_DATA_AFTER_WORD_ONSET) * SAMPLING_RATE) # 3072\n",
    "\n",
    "print(\"Loading dataset...\")\n",
    "# Convert PyTorch dataset to numpy arrays for scikit-learn\n",
    "X = []\n",
    "y = []\n",
    "for i in range(len(dataset)):\n",
    "    features, label = dataset[i]\n",
    "    X.append(features.numpy()[:, word_onset_idx:word_onset_idx_end].flatten()) # take 1 second of raw voltage starting with the word onset\n",
    "    y.append(label)\n",
    "X = np.array(X)\n",
    "y = np.array(y)\n",
    "print(\"Dataset loaded\")"
   ]
  },
  {
   "cell_type": "code",
   "execution_count": 5,
   "metadata": {},
   "outputs": [
    {
     "name": "stdout",
     "output_type": "stream",
     "text": [
      "Training logistic regression model...\n",
      "Logistic regression model trained\n",
      "Evaluating model...\n",
      "Model evaluated\n",
      "Training accuracy: 1.000\n",
      "Test accuracy: 0.625\n"
     ]
    }
   ],
   "source": [
    "# Train logistic regression\n",
    "from sklearn.linear_model import LogisticRegression\n",
    "from sklearn.model_selection import train_test_split\n",
    "train_test_split_sequential = True\n",
    "test_size = 0.2\n",
    "\n",
    "# Split data into train and test sets\n",
    "if train_test_split_sequential:\n",
    "    # Use sequential split instead of random split\n",
    "    split_idx = int((1 - test_size) * len(X))  # 80% for training\n",
    "    X_train, X_test = X[:split_idx], X[split_idx:]\n",
    "    y_train, y_test = y[:split_idx], y[split_idx:]\n",
    "else:\n",
    "    X_train, X_test, y_train, y_test = train_test_split(X, y, test_size=test_size, random_state=42)\n",
    "\n",
    "# Create and train logistic regression model\n",
    "print(\"Training logistic regression model...\")\n",
    "clf = LogisticRegression(random_state=42, max_iter=1000)\n",
    "clf.fit(X_train, y_train)\n",
    "print(\"Logistic regression model trained\")\n",
    "\n",
    "# Evaluate model\n",
    "print(\"Evaluating model...\")\n",
    "train_score = clf.score(X_train, y_train)\n",
    "test_score = clf.score(X_test, y_test)\n",
    "print(\"Model evaluated\")\n",
    "\n",
    "print(f\"Training accuracy: {train_score:.3f}\")\n",
    "print(f\"Test accuracy: {test_score:.3f}\")"
   ]
  },
  {
   "cell_type": "code",
   "execution_count": null,
   "metadata": {},
   "outputs": [],
   "source": []
  }
 ],
 "metadata": {
  "kernelspec": {
   "display_name": "Python (venv)",
   "language": "python",
   "name": ".venv"
  },
  "language_info": {
   "codemirror_mode": {
    "name": "ipython",
    "version": 3
   },
   "file_extension": ".py",
   "mimetype": "text/x-python",
   "name": "python",
   "nbconvert_exporter": "python",
   "pygments_lexer": "ipython3",
   "version": "3.9.12"
  }
 },
 "nbformat": 4,
 "nbformat_minor": 2
}
